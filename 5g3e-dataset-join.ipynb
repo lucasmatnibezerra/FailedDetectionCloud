{
 "cells": [
  {
   "cell_type": "markdown",
   "metadata": {},
   "source": [
    "# Reorganizing the Data"
   ]
  },
  {
   "cell_type": "code",
   "execution_count": 1,
   "metadata": {},
   "outputs": [
    {
     "name": "stderr",
     "output_type": "stream",
     "text": [
      "/tmp/ipykernel_170681/2019955214.py:15: DtypeWarning: Columns (852,882,1413) have mixed types. Specify dtype option on import or set low_memory=False.\n",
      "  server_metrics_df = pd.read_csv(f\"Training_Sets/Training_Set_{day}/physical_level/{server.lower()}.csv\", usecols=columns, sep=\";\")\n",
      "/tmp/ipykernel_170681/2019955214.py:15: DtypeWarning: Columns (852,882,1413) have mixed types. Specify dtype option on import or set low_memory=False.\n",
      "  server_metrics_df = pd.read_csv(f\"Training_Sets/Training_Set_{day}/physical_level/{server.lower()}.csv\", usecols=columns, sep=\";\")\n",
      "/tmp/ipykernel_170681/2019955214.py:15: DtypeWarning: Columns (852,882,1413) have mixed types. Specify dtype option on import or set low_memory=False.\n",
      "  server_metrics_df = pd.read_csv(f\"Training_Sets/Training_Set_{day}/physical_level/{server.lower()}.csv\", usecols=columns, sep=\";\")\n",
      "/tmp/ipykernel_170681/2019955214.py:15: DtypeWarning: Columns (852,882,1413) have mixed types. Specify dtype option on import or set low_memory=False.\n",
      "  server_metrics_df = pd.read_csv(f\"Training_Sets/Training_Set_{day}/physical_level/{server.lower()}.csv\", usecols=columns, sep=\";\")\n",
      "/tmp/ipykernel_170681/2019955214.py:15: DtypeWarning: Columns (852,882,1413) have mixed types. Specify dtype option on import or set low_memory=False.\n",
      "  server_metrics_df = pd.read_csv(f\"Training_Sets/Training_Set_{day}/physical_level/{server.lower()}.csv\", usecols=columns, sep=\";\")\n"
     ]
    },
    {
     "ename": "ParserError",
     "evalue": "Error tokenizing data. C error: Calling read(nbytes) on source failed. Try engine='python'.",
     "output_type": "error",
     "traceback": [
      "\u001b[0;31m---------------------------------------------------------------------------\u001b[0m",
      "\u001b[0;31mParserError\u001b[0m                               Traceback (most recent call last)",
      "Cell \u001b[0;32mIn[1], line 15\u001b[0m\n\u001b[1;32m     13\u001b[0m \u001b[38;5;28;01mfor\u001b[39;00m day \u001b[38;5;129;01min\u001b[39;00m days:\n\u001b[1;32m     14\u001b[0m     \u001b[38;5;28;01mif\u001b[39;00m \u001b[38;5;129;01mnot\u001b[39;00m os\u001b[38;5;241m.\u001b[39mpath\u001b[38;5;241m.\u001b[39mexists(\u001b[38;5;124mf\u001b[39m\u001b[38;5;124m\"\u001b[39m\u001b[38;5;132;01m{\u001b[39;00mserver\u001b[38;5;132;01m}\u001b[39;00m\u001b[38;5;124m_Training_Sets/\u001b[39m\u001b[38;5;132;01m{\u001b[39;00mday\u001b[38;5;132;01m}\u001b[39;00m\u001b[38;5;124m.xlsx\u001b[39m\u001b[38;5;124m\"\u001b[39m):\n\u001b[0;32m---> 15\u001b[0m         server_metrics_df \u001b[38;5;241m=\u001b[39m \u001b[43mpd\u001b[49m\u001b[38;5;241;43m.\u001b[39;49m\u001b[43mread_csv\u001b[49m\u001b[43m(\u001b[49m\u001b[38;5;124;43mf\u001b[39;49m\u001b[38;5;124;43m\"\u001b[39;49m\u001b[38;5;124;43mTraining_Sets/Training_Set_\u001b[39;49m\u001b[38;5;132;43;01m{\u001b[39;49;00m\u001b[43mday\u001b[49m\u001b[38;5;132;43;01m}\u001b[39;49;00m\u001b[38;5;124;43m/physical_level/\u001b[39;49m\u001b[38;5;132;43;01m{\u001b[39;49;00m\u001b[43mserver\u001b[49m\u001b[38;5;241;43m.\u001b[39;49m\u001b[43mlower\u001b[49m\u001b[43m(\u001b[49m\u001b[43m)\u001b[49m\u001b[38;5;132;43;01m}\u001b[39;49;00m\u001b[38;5;124;43m.csv\u001b[39;49m\u001b[38;5;124;43m\"\u001b[39;49m\u001b[43m,\u001b[49m\u001b[43m \u001b[49m\u001b[43musecols\u001b[49m\u001b[38;5;241;43m=\u001b[39;49m\u001b[43mcolumns\u001b[49m\u001b[43m,\u001b[49m\u001b[43m \u001b[49m\u001b[43msep\u001b[49m\u001b[38;5;241;43m=\u001b[39;49m\u001b[38;5;124;43m\"\u001b[39;49m\u001b[38;5;124;43m;\u001b[39;49m\u001b[38;5;124;43m\"\u001b[39;49m\u001b[43m)\u001b[49m\n\u001b[1;32m     17\u001b[0m         \u001b[38;5;28;01mfor\u001b[39;00m column \u001b[38;5;129;01min\u001b[39;00m columns:\n\u001b[1;32m     18\u001b[0m             server_metrics_df[column] \u001b[38;5;241m=\u001b[39m pd\u001b[38;5;241m.\u001b[39mto_numeric(server_metrics_df[column], errors\u001b[38;5;241m=\u001b[39m\u001b[38;5;124m'\u001b[39m\u001b[38;5;124mcoerce\u001b[39m\u001b[38;5;124m'\u001b[39m)\n",
      "File \u001b[0;32m/media/HD/Projetos_DS/venv/lib/python3.10/site-packages/pandas/io/parsers/readers.py:1026\u001b[0m, in \u001b[0;36mread_csv\u001b[0;34m(filepath_or_buffer, sep, delimiter, header, names, index_col, usecols, dtype, engine, converters, true_values, false_values, skipinitialspace, skiprows, skipfooter, nrows, na_values, keep_default_na, na_filter, verbose, skip_blank_lines, parse_dates, infer_datetime_format, keep_date_col, date_parser, date_format, dayfirst, cache_dates, iterator, chunksize, compression, thousands, decimal, lineterminator, quotechar, quoting, doublequote, escapechar, comment, encoding, encoding_errors, dialect, on_bad_lines, delim_whitespace, low_memory, memory_map, float_precision, storage_options, dtype_backend)\u001b[0m\n\u001b[1;32m   1013\u001b[0m kwds_defaults \u001b[38;5;241m=\u001b[39m _refine_defaults_read(\n\u001b[1;32m   1014\u001b[0m     dialect,\n\u001b[1;32m   1015\u001b[0m     delimiter,\n\u001b[0;32m   (...)\u001b[0m\n\u001b[1;32m   1022\u001b[0m     dtype_backend\u001b[38;5;241m=\u001b[39mdtype_backend,\n\u001b[1;32m   1023\u001b[0m )\n\u001b[1;32m   1024\u001b[0m kwds\u001b[38;5;241m.\u001b[39mupdate(kwds_defaults)\n\u001b[0;32m-> 1026\u001b[0m \u001b[38;5;28;01mreturn\u001b[39;00m \u001b[43m_read\u001b[49m\u001b[43m(\u001b[49m\u001b[43mfilepath_or_buffer\u001b[49m\u001b[43m,\u001b[49m\u001b[43m \u001b[49m\u001b[43mkwds\u001b[49m\u001b[43m)\u001b[49m\n",
      "File \u001b[0;32m/media/HD/Projetos_DS/venv/lib/python3.10/site-packages/pandas/io/parsers/readers.py:626\u001b[0m, in \u001b[0;36m_read\u001b[0;34m(filepath_or_buffer, kwds)\u001b[0m\n\u001b[1;32m    623\u001b[0m     \u001b[38;5;28;01mreturn\u001b[39;00m parser\n\u001b[1;32m    625\u001b[0m \u001b[38;5;28;01mwith\u001b[39;00m parser:\n\u001b[0;32m--> 626\u001b[0m     \u001b[38;5;28;01mreturn\u001b[39;00m \u001b[43mparser\u001b[49m\u001b[38;5;241;43m.\u001b[39;49m\u001b[43mread\u001b[49m\u001b[43m(\u001b[49m\u001b[43mnrows\u001b[49m\u001b[43m)\u001b[49m\n",
      "File \u001b[0;32m/media/HD/Projetos_DS/venv/lib/python3.10/site-packages/pandas/io/parsers/readers.py:1923\u001b[0m, in \u001b[0;36mTextFileReader.read\u001b[0;34m(self, nrows)\u001b[0m\n\u001b[1;32m   1916\u001b[0m nrows \u001b[38;5;241m=\u001b[39m validate_integer(\u001b[38;5;124m\"\u001b[39m\u001b[38;5;124mnrows\u001b[39m\u001b[38;5;124m\"\u001b[39m, nrows)\n\u001b[1;32m   1917\u001b[0m \u001b[38;5;28;01mtry\u001b[39;00m:\n\u001b[1;32m   1918\u001b[0m     \u001b[38;5;66;03m# error: \"ParserBase\" has no attribute \"read\"\u001b[39;00m\n\u001b[1;32m   1919\u001b[0m     (\n\u001b[1;32m   1920\u001b[0m         index,\n\u001b[1;32m   1921\u001b[0m         columns,\n\u001b[1;32m   1922\u001b[0m         col_dict,\n\u001b[0;32m-> 1923\u001b[0m     ) \u001b[38;5;241m=\u001b[39m \u001b[38;5;28;43mself\u001b[39;49m\u001b[38;5;241;43m.\u001b[39;49m\u001b[43m_engine\u001b[49m\u001b[38;5;241;43m.\u001b[39;49m\u001b[43mread\u001b[49m\u001b[43m(\u001b[49m\u001b[43m  \u001b[49m\u001b[38;5;66;43;03m# type: ignore[attr-defined]\u001b[39;49;00m\n\u001b[1;32m   1924\u001b[0m \u001b[43m        \u001b[49m\u001b[43mnrows\u001b[49m\n\u001b[1;32m   1925\u001b[0m \u001b[43m    \u001b[49m\u001b[43m)\u001b[49m\n\u001b[1;32m   1926\u001b[0m \u001b[38;5;28;01mexcept\u001b[39;00m \u001b[38;5;167;01mException\u001b[39;00m:\n\u001b[1;32m   1927\u001b[0m     \u001b[38;5;28mself\u001b[39m\u001b[38;5;241m.\u001b[39mclose()\n",
      "File \u001b[0;32m/media/HD/Projetos_DS/venv/lib/python3.10/site-packages/pandas/io/parsers/c_parser_wrapper.py:234\u001b[0m, in \u001b[0;36mCParserWrapper.read\u001b[0;34m(self, nrows)\u001b[0m\n\u001b[1;32m    232\u001b[0m \u001b[38;5;28;01mtry\u001b[39;00m:\n\u001b[1;32m    233\u001b[0m     \u001b[38;5;28;01mif\u001b[39;00m \u001b[38;5;28mself\u001b[39m\u001b[38;5;241m.\u001b[39mlow_memory:\n\u001b[0;32m--> 234\u001b[0m         chunks \u001b[38;5;241m=\u001b[39m \u001b[38;5;28;43mself\u001b[39;49m\u001b[38;5;241;43m.\u001b[39;49m\u001b[43m_reader\u001b[49m\u001b[38;5;241;43m.\u001b[39;49m\u001b[43mread_low_memory\u001b[49m\u001b[43m(\u001b[49m\u001b[43mnrows\u001b[49m\u001b[43m)\u001b[49m\n\u001b[1;32m    235\u001b[0m         \u001b[38;5;66;03m# destructive to chunks\u001b[39;00m\n\u001b[1;32m    236\u001b[0m         data \u001b[38;5;241m=\u001b[39m _concatenate_chunks(chunks)\n",
      "File \u001b[0;32mparsers.pyx:838\u001b[0m, in \u001b[0;36mpandas._libs.parsers.TextReader.read_low_memory\u001b[0;34m()\u001b[0m\n",
      "File \u001b[0;32mparsers.pyx:905\u001b[0m, in \u001b[0;36mpandas._libs.parsers.TextReader._read_rows\u001b[0;34m()\u001b[0m\n",
      "File \u001b[0;32mparsers.pyx:874\u001b[0m, in \u001b[0;36mpandas._libs.parsers.TextReader._tokenize_rows\u001b[0;34m()\u001b[0m\n",
      "File \u001b[0;32mparsers.pyx:891\u001b[0m, in \u001b[0;36mpandas._libs.parsers.TextReader._check_tokenize_status\u001b[0;34m()\u001b[0m\n",
      "File \u001b[0;32mparsers.pyx:2061\u001b[0m, in \u001b[0;36mpandas._libs.parsers.raise_parser_error\u001b[0;34m()\u001b[0m\n",
      "\u001b[0;31mParserError\u001b[0m: Error tokenizing data. C error: Calling read(nbytes) on source failed. Try engine='python'."
     ]
    }
   ],
   "source": [
    "import pandas as pd\n",
    "import os\n",
    "\n",
    "servers = [\"Server_1\", \"Server_2\", \"Server_3\", \"Server_4\", \"Server_5\", \"Server_6\"]\n",
    "\n",
    "days = [\"Day_1\", \"Day_2\", \"Day_3\", \"Day_4\", \"Day_5\", \"Day_6\", \"Day_7\", \"Day_8\", \"Day_9\", \"Day_10\", \"Day_11\", \"Day_12\", \"Day_13\", \"Day_14\"]\n",
    "\n",
    "columns = [\"node_load1\",\n",
    "           \"node_memory_MemAvailable_bytes\",\n",
    "           \"node_network_transmit_bytes_total{device=\\\"eno1\\\"}\"]\n",
    "\n",
    "for server in servers:\n",
    "    for day in days:\n",
    "        if not os.path.exists(f\"{server}_Training_Sets/{day}.xlsx\"):\n",
    "            server_metrics_df = pd.read_csv(f\"Training_Sets/Training_Set_{day}/physical_level/{server.lower()}.csv\", usecols=columns, sep=\";\")\n",
    "\n",
    "            for column in columns:\n",
    "                server_metrics_df[column] = pd.to_numeric(server_metrics_df[column], errors='coerce')\n",
    "\n",
    "            server_metrics_df.to_excel(f\"{server}_Training_Sets/{day}.xlsx\", index=False)"
   ]
  },
  {
   "cell_type": "markdown",
   "metadata": {},
   "source": [
    "# Dataset Formation"
   ]
  },
  {
   "cell_type": "code",
   "execution_count": 1,
   "metadata": {},
   "outputs": [],
   "source": [
    "import numpy as np\n",
    "import pandas as pd\n",
    "from sklearn.linear_model import LinearRegression\n",
    "from tqdm import tqdm\n",
    "\n",
    "def greedy_coreset_selection_batch(time_series_df, num_samples, batch_size=10):\n",
    "    X = time_series_df[['X']].values  # valores atuais (input)\n",
    "    y = time_series_df['y'].values  # valores futuros (rótulos)\n",
    "\n",
    "    selected_indices = [np.random.randint(0, len(X))]\n",
    "    remaining_indices = list(set(range(len(X))) - set(selected_indices))\n",
    "\n",
    "    model = LinearRegression()\n",
    "\n",
    "    model.fit(X[selected_indices], y[selected_indices])\n",
    "\n",
    "    pbar = tqdm(total=num_samples, desc=\"Seleção do Coreset\", unit=\"batch\")\n",
    "\n",
    "    while len(selected_indices) < num_samples:\n",
    "        max_reduction_in_error = -np.inf\n",
    "        best_candidate_indices = None\n",
    "\n",
    "        batch_size_to_use = min(batch_size, len(remaining_indices))\n",
    "        batch_candidates = np.random.choice(remaining_indices, size=batch_size_to_use, replace=False)\n",
    "\n",
    "        temporary_coreset = X[selected_indices + list(batch_candidates)]\n",
    "        temporary_labels = np.concatenate([y[selected_indices], y[batch_candidates]])\n",
    "\n",
    "        model.fit(temporary_coreset, temporary_labels)\n",
    "\n",
    "        error = np.mean((model.predict(X[selected_indices + list(batch_candidates)]) - y[selected_indices + list(batch_candidates)]) ** 2)\n",
    "\n",
    "        error_reduction = error - max_reduction_in_error\n",
    "        if error_reduction > max_reduction_in_error:\n",
    "            max_reduction_in_error = error_reduction\n",
    "            best_candidate_indices = batch_candidates\n",
    "\n",
    "        selected_indices.extend(best_candidate_indices)\n",
    "        remaining_indices = list(set(remaining_indices) - set(best_candidate_indices))\n",
    "\n",
    "        pbar.update(batch_size_to_use)\n",
    "\n",
    "    pbar.close()\n",
    "\n",
    "    return time_series_df.iloc[selected_indices]"
   ]
  },
  {
   "cell_type": "code",
   "execution_count": 2,
   "metadata": {},
   "outputs": [
    {
     "name": "stderr",
     "output_type": "stream",
     "text": [
      "Seleção do Coreset: 6400batch [00:04, 1556.87batch/s]                       \n",
      "Seleção do Coreset: 6400batch [00:04, 1493.80batch/s]                       \n",
      "Seleção do Coreset: 6400batch [00:04, 1385.72batch/s]                       \n",
      "Seleção do Coreset: 6400batch [00:05, 1271.15batch/s]                       \n",
      "Seleção do Coreset: 6400batch [00:05, 1072.17batch/s]                       \n",
      "Seleção do Coreset: 6400batch [00:05, 1132.66batch/s]                       \n",
      "Seleção do Coreset: 6400batch [00:05, 1113.97batch/s]                       \n",
      "Seleção do Coreset: 6400batch [00:05, 1150.22batch/s]                       \n",
      "Seleção do Coreset: 6400batch [00:05, 1223.35batch/s]                       \n",
      "Seleção do Coreset: 6400batch [00:05, 1274.41batch/s]                       \n",
      "Seleção do Coreset: 6400batch [00:04, 1293.54batch/s]                       \n",
      "Seleção do Coreset: 6400batch [00:04, 1366.33batch/s]                       \n",
      "Seleção do Coreset: 6400batch [00:04, 1343.15batch/s]                       \n",
      "Seleção do Coreset: 6400batch [00:04, 1425.98batch/s]                       "
     ]
    },
    {
     "name": "stdout",
     "output_type": "stream",
     "text": [
      "            X       y\n",
      "0      119.00  117.89\n",
      "1       97.91   99.29\n",
      "2      107.83  111.56\n",
      "3      115.15  114.08\n",
      "4       92.39   97.70\n",
      "...       ...     ...\n",
      "89609   71.70   71.94\n",
      "89610   71.35   72.77\n",
      "89611   71.81   76.35\n",
      "89612   81.03   79.27\n",
      "89613   81.48   77.89\n",
      "\n",
      "[89614 rows x 2 columns]\n"
     ]
    },
    {
     "name": "stderr",
     "output_type": "stream",
     "text": [
      "\n"
     ]
    }
   ],
   "source": [
    "import matplotlib.pyplot as plt\n",
    "import pandas as pd\n",
    "import numpy as np\n",
    "\n",
    "days = [\"Day_1\", \"Day_2\", \"Day_3\", \"Day_4\", \"Day_5\", \"Day_6\", \"Day_7\", \"Day_8\", \"Day_9\", \"Day_10\", \"Day_11\", \"Day_12\", \"Day_13\", \"Day_14\"]\n",
    "\n",
    "global_coreset_df = pd.DataFrame()\n",
    "\n",
    "for day in days:\n",
    "\n",
    "    server_metrics_df = pd.read_excel(f\"Server_1_Training_Sets/{day}.xlsx\")\n",
    "\n",
    "    step = 395  # 1 minuto a frente equivale a 395 amostras a frente no timestamp\n",
    "\n",
    "    dataset = np.array(server_metrics_df[\"node_load1\"])\n",
    "\n",
    "    X, y = [], []\n",
    "\n",
    "    for i in range(len(dataset) - step):\n",
    "        feature = dataset[i]\n",
    "        target = dataset[i + step]\n",
    "        X.append(feature)\n",
    "        y.append(target)\n",
    "\n",
    "    time_series_df = pd.DataFrame(columns=[\"X\", \"y\"], data=[(X_v, y_v) for X_v, y_v in zip(X, y)])\n",
    "\n",
    "    num_samples = 6395  # Número de amostras que você quer selecionar\n",
    "    batch_size = 100\n",
    "\n",
    "    coreset_df = greedy_coreset_selection_batch(time_series_df, num_samples, batch_size)\n",
    "\n",
    "    global_coreset_df = pd.concat([global_coreset_df, coreset_df], ignore_index=True)\n",
    "\n",
    "print(global_coreset_df)"
   ]
  },
  {
   "cell_type": "code",
   "execution_count": 4,
   "metadata": {},
   "outputs": [],
   "source": [
    "global_coreset_df.to_excel(\"Server_1_Training_Sets/node_load1.xlsx\", index=False)"
   ]
  }
 ],
 "metadata": {
  "kernelspec": {
   "display_name": "venv",
   "language": "python",
   "name": "python3"
  },
  "language_info": {
   "codemirror_mode": {
    "name": "ipython",
    "version": 3
   },
   "file_extension": ".py",
   "mimetype": "text/x-python",
   "name": "python",
   "nbconvert_exporter": "python",
   "pygments_lexer": "ipython3",
   "version": "3.10.12"
  }
 },
 "nbformat": 4,
 "nbformat_minor": 2
}
